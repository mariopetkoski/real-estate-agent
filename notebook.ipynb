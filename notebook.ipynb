{
 "cells": [
  {
   "cell_type": "code",
   "execution_count": 1,
   "metadata": {},
   "outputs": [
    {
     "name": "stdout",
     "output_type": "stream",
     "text": [
      "hello\n"
     ]
    }
   ],
   "source": [
    "print(\"hello\")"
   ]
  },
  {
   "cell_type": "code",
   "metadata": {
    "ExecuteTime": {
     "end_time": "2024-08-15T14:54:24.102784Z",
     "start_time": "2024-08-15T14:54:24.046972Z"
    }
   },
   "source": [
    "from langchain_core.prompts import ChatPromptTemplate\n",
    "from langchain_ollama.llms import OllamaLLM\n",
    "\n",
    "# template = \"\"\"Question: {question}\n",
    "\n",
    "# Answer: Let's think step by step.\"\"\"\n",
    "\n",
    "# prompt = ChatPromptTemplate.from_template(template)\n",
    "\n",
    "# model = OllamaLLM(model=\"llama3\")\n",
    "\n",
    "# chain = prompt | model\n",
    "\n",
    "# response = chain.invoke({\"question\": \"How do I pick outfit for today?\"})"
   ],
   "outputs": [],
   "execution_count": 7
  },
  {
   "cell_type": "code",
   "execution_count": 5,
   "metadata": {},
   "outputs": [
    {
     "name": "stdout",
     "output_type": "stream",
     "text": [
      "Let's break it down together.\n",
      "\n",
      "Step 1: Consider the occasion. What are you planning to do today? Are you going to work, school, running errands, or something else?\n",
      "\n",
      "Please respond with your answer, and we'll move on to the next step!\n"
     ]
    }
   ],
   "source": [
    "# print(response)"
   ]
  },
  {
   "cell_type": "code",
   "execution_count": 9,
   "metadata": {},
   "outputs": [],
   "source": [
    "import sqlite3\n",
    "import random\n",
    "import string\n",
    "from datetime import datetime, timedelta\n",
    "\n",
    "# Create SQLite database and connection\n",
    "conn = sqlite3.connect('properties.db')\n",
    "cursor = conn.cursor()\n",
    "\n",
    "# Create table with the selected schema\n",
    "cursor.execute('''CREATE TABLE IF NOT EXISTS properties (\n",
    "    property_id TEXT,\n",
    "    list_price REAL,\n",
    "    status TEXT,\n",
    "    city TEXT,\n",
    "    list_date TEXT\n",
    ")''')\n",
    "\n",
    "# Function to generate random dummy data\n",
    "def random_string(length=10):\n",
    "    return ''.join(random.choices(string.ascii_uppercase + string.digits, k=length))\n",
    "\n",
    "def random_date(start, end):\n",
    "    return start + timedelta(\n",
    "        seconds=random.randint(0, int((end - start).total_seconds())),\n",
    "    )\n",
    "\n",
    "# Insert 20 dummy records\n",
    "for _ in range(20):\n",
    "    property_id = random_string(10)\n",
    "    list_price = round(random.uniform(100000, 1000000), 2)\n",
    "    status = random.choice([\"active\", \"sold\", \"pending\"])\n",
    "    city = random.choice([\"Los Angeles\", \"New York\", \"Houston\", \"Miami\"])\n",
    "    list_date = random_date(datetime(2021, 1, 1), datetime(2024, 8, 1)).strftime(\"%Y-%m-%d\")\n",
    "\n",
    "    # Insert the dummy record into the database\n",
    "    cursor.execute('''INSERT INTO properties (property_id, list_price, status, city, list_date) \n",
    "                      VALUES (?, ?, ?, ?, ?)''',\n",
    "                   (property_id, list_price, status, city, list_date))\n",
    "\n",
    "# Commit and close the connection\n",
    "conn.commit()\n",
    "conn.close()\n"
   ]
  },
  {
   "metadata": {
    "ExecuteTime": {
     "end_time": "2024-08-15T14:52:23.694272Z",
     "start_time": "2024-08-15T14:52:14.447930Z"
    }
   },
   "cell_type": "code",
   "source": [
    "import requests\n",
    "import json\n",
    "import datetime\n",
    "import pandas as pd\n",
    "import sqlite3\n",
    "import logging\n",
    "\n",
    "# Configure logging\n",
    "logging.basicConfig(level=logging.INFO, format='%(asctime)s - %(levelname)s - %(message)s')\n",
    "\n",
    "# Define constants\n",
    "url = \"https://www.realtor.com/api/v1/hulk?client_id=rdc-x&schema=vesta\"\n",
    "headers = {\"content-type\": \"application/json\"}\n",
    "offset = 0\n",
    "limit = 100\n",
    "max_offset = 1000  # Set the maximum offset value\n",
    "file_name = str(datetime.date.today()) + \".csv\"\n",
    "db_name = \"real_estate_data.db\"\n",
    "\n",
    "# Initialize session\n",
    "session = requests.Session()\n",
    "\n",
    "# Initialize an empty list to collect rows\n",
    "rows = []\n",
    "\n",
    "try:\n",
    "    while offset < max_offset:\n",
    "        # Prepare the request payload\n",
    "        body = json.dumps({\n",
    "            \"query\": \"query ConsumerSearchQuery($query: HomeSearchCriteria!, $limit: Int, $offset: Int, $sort: [SearchAPISort], $sort_type: SearchSortType, $client_data: JSON, $bucket: SearchAPIBucket) {home_search: home_search(query: $query, sort: $sort, limit: $limit, offset: $offset, sort_type: $sort_type, client_data: $client_data, bucket: $bucket) {count total results {property_id list_price primary_photo (https: true) {href} listing_id virtual_tours{href type} status permalink price_reduced_amount description{beds baths baths_full baths_3qtr baths_half sqft lot_sqft baths_max baths_min beds_max sqft_min sqft_max type sold_price sold_date} location{street_view_url address{line postal_code state state_code city coordinate{lat lon}}} open_houses {start_date end_date} flags{is_coming_soon is_new_listing (days: 14) is_price_reduced (days: 30) is_foreclosure is_new_construction is_pending is_contingent} list_date photos(limit: 1, https: true) {href}}}}\",\n",
    "            \"variables\": {\n",
    "                \"query\": {\n",
    "                    \"status\": [\"for_sale\", \"ready_to_build\"],\n",
    "                    \"primary\": True,\n",
    "                    \"state_code\": \"CA\",\n",
    "                    \"boundary\": {\n",
    "                        \"type\": \"Polygon\",\n",
    "                        \"coordinates\": [\n",
    "                            [\n",
    "                                [-128.710184, 44.968352],\n",
    "                                [-108.978738, 44.968352],\n",
    "                                [-108.978738, 28.540688],\n",
    "                                [-128.710184, 28.540688],\n",
    "                                [-128.710184, 44.968352]\n",
    "                            ]\n",
    "                        ]\n",
    "                    }\n",
    "                },\n",
    "                \"client_data\": {\n",
    "                    \"device_data\": {\n",
    "                        \"device_type\": \"web\"\n",
    "                    },\n",
    "                    \"user_data\": {\n",
    "                        \"last_view_timestamp\": -1\n",
    "                    }\n",
    "                },\n",
    "                \"limit\": limit,\n",
    "                \"offset\": offset,\n",
    "                \"zohoQuery\": {\n",
    "                    \"silo\": \"search_result_page\",\n",
    "                    \"location\": \"California\",\n",
    "                    \"property_status\": \"for_sale\",\n",
    "                    \"filters\": {}\n",
    "                },\n",
    "                \"geoSupportedSlug\": \"\",\n",
    "                \"zoom\": 5,\n",
    "                \"sort\": [\n",
    "                    {\"field\": \"list_date\", \"direction\": \"desc\"},\n",
    "                    {\"field\": \"photo_count\", \"direction\": \"desc\"}\n",
    "                ],\n",
    "                \"by_prop_type\": [\"home\"]\n",
    "            },\n",
    "            \"callfrom\": \"SRP\",\n",
    "            \"nrQueryType\": \"MAP_MAIN_SRP\",\n",
    "            \"isClient\": True\n",
    "        })\n",
    "\n",
    "        # Make the POST request\n",
    "        try:\n",
    "            response = session.post(url=url, data=body, headers=headers)\n",
    "            response.raise_for_status()  # Raise an HTTPError for bad responses\n",
    "            data = response.json()\n",
    "        except requests.exceptions.RequestException as e:\n",
    "            logging.error(f\"Request failed at offset {offset}: {e}\")\n",
    "            break\n",
    "\n",
    "        # Process the results\n",
    "        for result in data[\"data\"][\"home_search\"][\"results\"]:\n",
    "            rows.append({\n",
    "                \"property_id\": result.get(\"property_id\", \"\"),\n",
    "                \"primary_photo_href\": result[\"primary_photo\"].get(\"href\", \"\")\n",
    "                if result.get(\"primary_photo\") else \"\",\n",
    "                \"list_price\": result.get(\"list_price\", \"\"),\n",
    "                \"listing_id\": result.get(\"listing_id\", \"\"),\n",
    "                \"status\": result.get(\"status\", \"\"),\n",
    "                \"permalink\": result.get(\"permalink\", \"\"),\n",
    "                \"price_reduced_amount\": result.get(\"price_reduced_amount\", \"\"),\n",
    "                \"beds\": result[\"description\"].get(\"beds\", \"\"),\n",
    "                \"baths\": result[\"description\"].get(\"baths\", \"\"),\n",
    "                \"sqft\": result[\"description\"].get(\"sqft\", \"\"),\n",
    "                \"lot_sqft\": result[\"description\"].get(\"lot_sqft\", \"\"),\n",
    "                \"type\": result[\"description\"].get(\"type\", \"\"),\n",
    "                \"sold_price\": result[\"description\"].get(\"sold_price\", \"\"),\n",
    "                \"sold_date\": result[\"description\"].get(\"sold_date\", \"\"),\n",
    "                \"line\": result[\"location\"][\"address\"].get(\"line\", \"\")\n",
    "                if result.get(\"location\") and result[\"location\"].get(\"address\") else \"\",\n",
    "                \"postal_code\": result[\"location\"][\"address\"].get(\"postal_code\", \"\")\n",
    "                if result.get(\"location\") and result[\"location\"].get(\"address\") else \"\",\n",
    "                \"state\": result[\"location\"][\"address\"].get(\"state\", \"\")\n",
    "                if result.get(\"location\") and result[\"location\"].get(\"address\") else \"\",\n",
    "                \"state_code\": result[\"location\"][\"address\"].get(\"state_code\", \"\")\n",
    "                if result.get(\"location\") and result[\"location\"].get(\"address\") else \"\",\n",
    "                \"city\": result[\"location\"][\"address\"].get(\"city\", \"\")\n",
    "                if result.get(\"location\") and result[\"location\"].get(\"address\") else \"\",\n",
    "                \"lat\": result[\"location\"][\"address\"][\"coordinate\"].get(\"lat\", \"\")\n",
    "                if result.get(\"location\") and result[\"location\"].get(\"address\") and result[\"location\"][\"address\"][\n",
    "                    \"coordinate\"] else \"\",\n",
    "                \"lon\": result[\"location\"][\"address\"][\"coordinate\"].get(\"lon\", \"\")\n",
    "                if result.get(\"location\") and result[\"location\"].get(\"address\") and result[\"location\"][\"address\"][\n",
    "                    \"coordinate\"] else \"\",\n",
    "                \"is_new_listing\": result[\"flags\"].get(\"is_new_listing\", \"\"),\n",
    "                \"is_price_reduced\": result[\"flags\"].get(\"is_price_reduced\", \"\"),\n",
    "                \"list_date\": result.get(\"list_date\", \"\")\n",
    "            })\n",
    "\n",
    "        logging.info(f\"Processed offset {offset}\")\n",
    "        offset += limit\n",
    "\n",
    "    # Convert the list of rows to a DataFrame\n",
    "    df = pd.DataFrame(rows)\n",
    "\n",
    "    # Save the DataFrame to an SQLite database\n",
    "    with sqlite3.connect(db_name) as conn:\n",
    "        df.to_sql('properties', conn, if_exists='replace', index=False)\n",
    "        logging.info(f\"Data successfully saved to {db_name}\")\n",
    "\n",
    "except Exception as e:\n",
    "    logging.error(f\"An error occurred: {e}\")\n",
    "\n",
    "finally:\n",
    "    session.close()"
   ],
   "outputs": [
    {
     "name": "stderr",
     "output_type": "stream",
     "text": [
      "2024-08-15 16:52:15,443 - INFO - Processed offset 0\n",
      "2024-08-15 16:52:16,292 - INFO - Processed offset 100\n",
      "2024-08-15 16:52:17,142 - INFO - Processed offset 200\n",
      "2024-08-15 16:52:18,021 - INFO - Processed offset 300\n",
      "2024-08-15 16:52:19,069 - INFO - Processed offset 400\n",
      "2024-08-15 16:52:20,009 - INFO - Processed offset 500\n",
      "2024-08-15 16:52:21,039 - INFO - Processed offset 600\n",
      "2024-08-15 16:52:21,884 - INFO - Processed offset 700\n",
      "2024-08-15 16:52:22,808 - INFO - Processed offset 800\n",
      "2024-08-15 16:52:23,671 - INFO - Processed offset 900\n",
      "2024-08-15 16:52:23,692 - INFO - Data successfully saved to real_estate_data.db\n"
     ]
    }
   ],
   "execution_count": 3
  },
  {
   "cell_type": "code",
   "execution_count": 10,
   "metadata": {},
   "outputs": [
    {
     "name": "stdout",
     "output_type": "stream",
     "text": [
      "property_id | list_price | status | city | list_date\n",
      "EE3KUSWMD9 | 709533.83 | sold | Miami | 2021-06-09\n",
      "3QW39WRTTL | 901498.28 | sold | Miami | 2024-02-09\n",
      "YOA0336IMP | 390973.57 | active | New York | 2022-07-30\n",
      "Y1LLDGS0C3 | 348274.1 | active | Miami | 2023-07-13\n",
      "NQVXHOS74P | 207258.9 | sold | New York | 2022-02-11\n",
      "69N9769441 | 395974.56 | pending | Houston | 2023-10-17\n",
      "YYEFU7QPWH | 307788.58 | active | New York | 2022-01-09\n",
      "V89LEPHSPR | 360683.07 | sold | Houston | 2021-07-15\n",
      "P2GU7D5EK4 | 924844.74 | active | Los Angeles | 2024-05-20\n",
      "KWCH2P2X0I | 581983.98 | active | New York | 2021-08-28\n",
      "HCM4CHT8MQ | 128762.77 | sold | Miami | 2022-08-08\n",
      "5P4FJD4ST0 | 475173.47 | active | Miami | 2024-06-08\n",
      "WDAQWL7M40 | 831178.72 | sold | Los Angeles | 2021-12-30\n",
      "P8YF99O7ZE | 784826.76 | pending | Miami | 2022-07-21\n",
      "0AS8KV90R8 | 210300.21 | pending | Miami | 2023-10-18\n",
      "DN7LFWJNGG | 516470.42 | active | Los Angeles | 2021-10-25\n",
      "GVJXEH7AU0 | 327436.07 | pending | Los Angeles | 2021-03-10\n",
      "52XD7PUXVP | 896555.25 | active | Miami | 2022-03-08\n",
      "1VLY6U8U5U | 371627.23 | active | Miami | 2023-06-11\n",
      "8S2KW2L9DT | 478240.59 | sold | New York | 2022-07-23\n"
     ]
    }
   ],
   "source": [
    "import sqlite3\n",
    "\n",
    "# Connect to the SQLite database\n",
    "conn = sqlite3.connect('properties.db')\n",
    "cursor = conn.cursor()\n",
    "\n",
    "# Query to select all records from the properties table\n",
    "cursor.execute('''SELECT * FROM properties''')\n",
    "\n",
    "# Fetch all rows from the executed query\n",
    "rows = cursor.fetchall()\n",
    "\n",
    "# Print the column names\n",
    "columns = [description[0] for description in cursor.description]\n",
    "print(\" | \".join(columns))\n",
    "\n",
    "# Print each row in the table\n",
    "for row in rows:\n",
    "    print(\" | \".join(str(value) for value in row))\n",
    "\n",
    "# Close the connection\n",
    "conn.close()\n"
   ]
  },
  {
   "cell_type": "code",
   "metadata": {
    "ExecuteTime": {
     "end_time": "2024-08-15T14:54:06.851981Z",
     "start_time": "2024-08-15T14:54:05.713735Z"
    }
   },
   "source": [
    "from langchain_community.utilities import SQLDatabase\n",
    "\n",
    "db = SQLDatabase.from_uri(\"sqlite:///real_estate_data.db\")\n",
    "print(db.dialect)\n",
    "print(db.get_usable_table_names())\n",
    "db.run(\"SELECT * FROM properties LIMIT 10;\")"
   ],
   "outputs": [
    {
     "name": "stdout",
     "output_type": "stream",
     "text": [
      "sqlite\n",
      "['properties']\n"
     ]
    },
    {
     "data": {
      "text/plain": [
       "\"[('2505288754', 'https://ap.rdcpix.com/0db6900101216a95d0877dd2ff3c7926l-m3582143663s.jpg', 990000, '2970762845', 'for_sale', '3099-Laurel-Dr_Sacramento_CA_95864_M25052-88754', None, 4.0, 3.0, 2322.0, 29673.0, 'single_family', None, None, '3099 Laurel Dr', '95864', 'California', 'CA', 'Sacramento', 38.576453, -121.392646, 1, None, '2024-08-15T14:48:46.000000Z'), ('9254812795', 'https://ap.rdcpix.com/003fc216a9294c9521c9796298114aafl-m984706222s.jpg', 550000, '2970762834', 'for_sale', '54020-Linger-Ln_Idyllwild_CA_92549_M92548-12795', None, 3.0, 3.0, 1150.0, 12197.0, 'single_family', None, None, '54020 Linger Ln', '92549', 'California', 'CA', 'Idyllwild', 33.73531, -116.719536, 1, None, '2024-08-15T14:48:46.000000Z'), ('2620081522', 'https://ap.rdcpix.com/2d345ab57ce5fad310a5f3f0feeb9d48l-m3447157138s.jpg', 60000000, '2970762847', 'for_sale', '1160-Nunneley-Rd_Paradise_CA_95969_M26200-81522', None, None, 0.0, None, 40511.0, 'land', 160000.0, '2011-10-21', '1160 Nunneley Rd', '95969', 'California', 'CA', 'Paradise', 39.755328, -121.604415, 1, None, '2024-08-15T14:48:46.000000Z'), ('1928217624', 'https://ap.rdcpix.com/fd275fbf881fe5c3410dec174527de7el-m100740749s.jpg', 990000, '2970762838', 'for_sale', '55260-Daryll-Rd_Idyllwild_CA_92549_M19282-17624', None, 3.0, 3.0, 2044.0, 30492.0, 'single_family', 330000.0, '2010-03-18', '55260 Daryll Rd', '92549', 'California', 'CA', 'Idyllwild', 33.74786, -116.698584, 1, None, '2024-08-15T14:48:46.000000Z'), ('9345202679', 'https://ap.rdcpix.com/bbed9b378e5e11146d5f4a69dd953e43l-m2270270904s.jpg', 419000, '2970762836', 'for_sale', '26195-Hemstreet-Pl_Idyllwild_CA_92549_M93452-02679', None, 2.0, 2.0, 1160.0, 8276.0, 'single_family', None, None, '26195 Hemstreet Pl', '92549', 'California', 'CA', 'Idyllwild', 33.741863, -116.703949, 1, None, '2024-08-15T14:48:46.000000Z'), ('1898248440', 'https://ap.rdcpix.com/1e306a18eedf2acc19a7bb87825e036fl-m2964956565s.jpg', 299000, '2970762830', 'for_sale', '52895-Cedar-Dr_Idyllwild_CA_92549_M18982-48440', None, 2.0, 2.0, 1036.0, 8276.0, 'single_family', 84500.0, '1988-09-13', '52895 Cedar Dr', '92549', 'California', 'CA', 'Idyllwild Pine Cove', 33.75585, -116.739323, 1, None, '2024-08-15T14:48:46.000000Z'), ('2133487517', 'https://ap.rdcpix.com/2e8a937ab5acf22668cefc41f3826192l-m3184058385s.jpg', 839000, '2970762748', 'for_sale', '2140-Southridge-Dr_Palm-Springs_CA_92264_M21334-87517', None, 3.0, 2.0, 1600.0, 2178.0, 'condos', 590000.0, '2022-02-17', '2140 Southridge Dr', '92264', 'California', 'CA', 'Palm Springs', 33.794628, -116.508778, 1, None, '2024-08-15T14:47:33.000000Z'), ('2581102569', 'https://ap.rdcpix.com/c745910d44ad5ec9c7b45988c6a7126bl-m4016534153s.jpg', 124500, '2970762747', 'for_sale', '2306-Galloway-Ave_Bishop_CA_93514_M25811-02569', None, 2.0, 2.0, 1056.0, None, 'mobile', None, None, '2306 Galloway Ave', '93514', 'California', 'CA', 'Bishop', 37.37878, -118.416669, 1, None, '2024-08-15T14:47:32.000000Z'), ('2550009475', 'https://ap.rdcpix.com/b3f66fb768a5ef37018c2b0d5d057023l-m3063398535s.jpg', 3788000, '2970762732', 'for_sale', '739-Coastland-Dr_Palo-Alto_CA_94303_M25500-09475', None, 4.0, 3.0, 2463.0, 6534.0, 'single_family', 449000.0, '1995-09-01', '739 Coastland Dr', '94303', 'California', 'CA', 'Palo Alto', 37.436555, -122.13153, 1, None, '2024-08-15T14:47:05.000000Z'), ('2476926100', 'https://ap.rdcpix.com/86d63bdfcabd7697ad36a98241b0d172l-m3811330709s.jpg', 1050000, '2970762604', 'for_sale', '614-Leah-Ln_Tracy_CA_95391_M24769-26100', None, 4.0, 4.0, 2865.0, 6033.0, 'single_family', 520500.0, '2004-05-24', '614 Leah Ln', '95391', 'California', 'CA', 'Tracy', 37.770623, -121.535861, 1, None, '2024-08-15T14:43:56.000000Z')]\""
      ]
     },
     "execution_count": 4,
     "metadata": {},
     "output_type": "execute_result"
    }
   ],
   "execution_count": 4
  },
  {
   "cell_type": "code",
   "metadata": {
    "ExecuteTime": {
     "end_time": "2024-08-15T14:54:34.760179Z",
     "start_time": "2024-08-15T14:54:34.756834Z"
    }
   },
   "source": [
    "llm = OllamaLLM(model=\"llama3\")"
   ],
   "outputs": [],
   "execution_count": 8
  },
  {
   "cell_type": "code",
   "metadata": {
    "ExecuteTime": {
     "end_time": "2024-08-15T14:54:51.331413Z",
     "start_time": "2024-08-15T14:54:36.207902Z"
    }
   },
   "source": [
    "from langchain.chains import create_sql_query_chain\n",
    "\n",
    "\n",
    "chain = create_sql_query_chain(llm, db)\n",
    "response = chain.invoke({\"question\": \"Which is the most expensive property?\"})\n"
   ],
   "outputs": [
    {
     "name": "stderr",
     "output_type": "stream",
     "text": [
      "2024-08-15 16:54:49,693 - INFO - HTTP Request: POST http://127.0.0.1:11434/api/generate \"HTTP/1.1 200 OK\"\n"
     ]
    }
   ],
   "execution_count": 9
  },
  {
   "cell_type": "code",
   "metadata": {
    "ExecuteTime": {
     "end_time": "2024-08-15T14:54:58.007161Z",
     "start_time": "2024-08-15T14:54:58.004910Z"
    }
   },
   "source": [
    "x = response.split(\":\")[-1].strip()"
   ],
   "outputs": [],
   "execution_count": 10
  },
  {
   "cell_type": "code",
   "metadata": {
    "ExecuteTime": {
     "end_time": "2024-08-15T14:55:00.510500Z",
     "start_time": "2024-08-15T14:55:00.505034Z"
    }
   },
   "source": [
    "db.run(x)"
   ],
   "outputs": [
    {
     "data": {
      "text/plain": [
       "\"[('2861542175', 144900000)]\""
      ]
     },
     "execution_count": 11,
     "metadata": {},
     "output_type": "execute_result"
    }
   ],
   "execution_count": 11
  },
  {
   "cell_type": "code",
   "execution_count": null,
   "metadata": {},
   "outputs": [],
   "source": []
  }
 ],
 "metadata": {
  "kernelspec": {
   "display_name": "diplomska-8wZfyYAr-py3.10",
   "language": "python",
   "name": "python3"
  },
  "language_info": {
   "codemirror_mode": {
    "name": "ipython",
    "version": 3
   },
   "file_extension": ".py",
   "mimetype": "text/x-python",
   "name": "python",
   "nbconvert_exporter": "python",
   "pygments_lexer": "ipython3",
   "version": "3.10.11"
  }
 },
 "nbformat": 4,
 "nbformat_minor": 2
}
