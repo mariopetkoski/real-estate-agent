{
 "cells": [
  {
   "cell_type": "code",
   "execution_count": 1,
   "metadata": {},
   "outputs": [
    {
     "name": "stdout",
     "output_type": "stream",
     "text": [
      "hello\n"
     ]
    }
   ],
   "source": [
    "print(\"hello\")"
   ]
  },
  {
   "cell_type": "code",
   "execution_count": 20,
   "metadata": {},
   "outputs": [],
   "source": [
    "from langchain_core.prompts import ChatPromptTemplate\n",
    "from langchain_ollama.llms import OllamaLLM\n",
    "\n",
    "# template = \"\"\"Question: {question}\n",
    "\n",
    "# Answer: Let's think step by step.\"\"\"\n",
    "\n",
    "# prompt = ChatPromptTemplate.from_template(template)\n",
    "\n",
    "# model = OllamaLLM(model=\"llama3\")\n",
    "\n",
    "# chain = prompt | model\n",
    "\n",
    "# response = chain.invoke({\"question\": \"How do I pick outfit for today?\"})"
   ]
  },
  {
   "cell_type": "code",
   "execution_count": 5,
   "metadata": {},
   "outputs": [
    {
     "name": "stdout",
     "output_type": "stream",
     "text": [
      "Let's break it down together.\n",
      "\n",
      "Step 1: Consider the occasion. What are you planning to do today? Are you going to work, school, running errands, or something else?\n",
      "\n",
      "Please respond with your answer, and we'll move on to the next step!\n"
     ]
    }
   ],
   "source": [
    "# print(response)"
   ]
  },
  {
   "cell_type": "code",
   "execution_count": 9,
   "metadata": {},
   "outputs": [],
   "source": [
    "import sqlite3\n",
    "import random\n",
    "import string\n",
    "from datetime import datetime, timedelta\n",
    "\n",
    "# Create SQLite database and connection\n",
    "conn = sqlite3.connect('properties.db')\n",
    "cursor = conn.cursor()\n",
    "\n",
    "# Create table with the selected schema\n",
    "cursor.execute('''CREATE TABLE IF NOT EXISTS properties (\n",
    "    property_id TEXT,\n",
    "    list_price REAL,\n",
    "    status TEXT,\n",
    "    city TEXT,\n",
    "    list_date TEXT\n",
    ")''')\n",
    "\n",
    "# Function to generate random dummy data\n",
    "def random_string(length=10):\n",
    "    return ''.join(random.choices(string.ascii_uppercase + string.digits, k=length))\n",
    "\n",
    "def random_date(start, end):\n",
    "    return start + timedelta(\n",
    "        seconds=random.randint(0, int((end - start).total_seconds())),\n",
    "    )\n",
    "\n",
    "# Insert 20 dummy records\n",
    "for _ in range(20):\n",
    "    property_id = random_string(10)\n",
    "    list_price = round(random.uniform(100000, 1000000), 2)\n",
    "    status = random.choice([\"active\", \"sold\", \"pending\"])\n",
    "    city = random.choice([\"Los Angeles\", \"New York\", \"Houston\", \"Miami\"])\n",
    "    list_date = random_date(datetime(2021, 1, 1), datetime(2024, 8, 1)).strftime(\"%Y-%m-%d\")\n",
    "\n",
    "    # Insert the dummy record into the database\n",
    "    cursor.execute('''INSERT INTO properties (property_id, list_price, status, city, list_date) \n",
    "                      VALUES (?, ?, ?, ?, ?)''',\n",
    "                   (property_id, list_price, status, city, list_date))\n",
    "\n",
    "# Commit and close the connection\n",
    "conn.commit()\n",
    "conn.close()\n"
   ]
  },
  {
   "cell_type": "code",
   "execution_count": 10,
   "metadata": {},
   "outputs": [
    {
     "name": "stdout",
     "output_type": "stream",
     "text": [
      "property_id | list_price | status | city | list_date\n",
      "EE3KUSWMD9 | 709533.83 | sold | Miami | 2021-06-09\n",
      "3QW39WRTTL | 901498.28 | sold | Miami | 2024-02-09\n",
      "YOA0336IMP | 390973.57 | active | New York | 2022-07-30\n",
      "Y1LLDGS0C3 | 348274.1 | active | Miami | 2023-07-13\n",
      "NQVXHOS74P | 207258.9 | sold | New York | 2022-02-11\n",
      "69N9769441 | 395974.56 | pending | Houston | 2023-10-17\n",
      "YYEFU7QPWH | 307788.58 | active | New York | 2022-01-09\n",
      "V89LEPHSPR | 360683.07 | sold | Houston | 2021-07-15\n",
      "P2GU7D5EK4 | 924844.74 | active | Los Angeles | 2024-05-20\n",
      "KWCH2P2X0I | 581983.98 | active | New York | 2021-08-28\n",
      "HCM4CHT8MQ | 128762.77 | sold | Miami | 2022-08-08\n",
      "5P4FJD4ST0 | 475173.47 | active | Miami | 2024-06-08\n",
      "WDAQWL7M40 | 831178.72 | sold | Los Angeles | 2021-12-30\n",
      "P8YF99O7ZE | 784826.76 | pending | Miami | 2022-07-21\n",
      "0AS8KV90R8 | 210300.21 | pending | Miami | 2023-10-18\n",
      "DN7LFWJNGG | 516470.42 | active | Los Angeles | 2021-10-25\n",
      "GVJXEH7AU0 | 327436.07 | pending | Los Angeles | 2021-03-10\n",
      "52XD7PUXVP | 896555.25 | active | Miami | 2022-03-08\n",
      "1VLY6U8U5U | 371627.23 | active | Miami | 2023-06-11\n",
      "8S2KW2L9DT | 478240.59 | sold | New York | 2022-07-23\n"
     ]
    }
   ],
   "source": [
    "import sqlite3\n",
    "\n",
    "# Connect to the SQLite database\n",
    "conn = sqlite3.connect('properties.db')\n",
    "cursor = conn.cursor()\n",
    "\n",
    "# Query to select all records from the properties table\n",
    "cursor.execute('''SELECT * FROM properties''')\n",
    "\n",
    "# Fetch all rows from the executed query\n",
    "rows = cursor.fetchall()\n",
    "\n",
    "# Print the column names\n",
    "columns = [description[0] for description in cursor.description]\n",
    "print(\" | \".join(columns))\n",
    "\n",
    "# Print each row in the table\n",
    "for row in rows:\n",
    "    print(\" | \".join(str(value) for value in row))\n",
    "\n",
    "# Close the connection\n",
    "conn.close()\n"
   ]
  },
  {
   "cell_type": "code",
   "execution_count": 21,
   "metadata": {},
   "outputs": [
    {
     "name": "stdout",
     "output_type": "stream",
     "text": [
      "sqlite\n",
      "['properties']\n"
     ]
    },
    {
     "data": {
      "text/plain": [
       "\"[('EE3KUSWMD9', 709533.83, 'sold', 'Miami', '2021-06-09'), ('3QW39WRTTL', 901498.28, 'sold', 'Miami', '2024-02-09'), ('YOA0336IMP', 390973.57, 'active', 'New York', '2022-07-30'), ('Y1LLDGS0C3', 348274.1, 'active', 'Miami', '2023-07-13'), ('NQVXHOS74P', 207258.9, 'sold', 'New York', '2022-02-11'), ('69N9769441', 395974.56, 'pending', 'Houston', '2023-10-17'), ('YYEFU7QPWH', 307788.58, 'active', 'New York', '2022-01-09'), ('V89LEPHSPR', 360683.07, 'sold', 'Houston', '2021-07-15'), ('P2GU7D5EK4', 924844.74, 'active', 'Los Angeles', '2024-05-20'), ('KWCH2P2X0I', 581983.98, 'active', 'New York', '2021-08-28')]\""
      ]
     },
     "execution_count": 21,
     "metadata": {},
     "output_type": "execute_result"
    }
   ],
   "source": [
    "from langchain_community.utilities import SQLDatabase\n",
    "\n",
    "db = SQLDatabase.from_uri(\"sqlite:///properties.db\")\n",
    "print(db.dialect)\n",
    "print(db.get_usable_table_names())\n",
    "db.run(\"SELECT * FROM properties LIMIT 10;\")"
   ]
  },
  {
   "cell_type": "code",
   "execution_count": 22,
   "metadata": {},
   "outputs": [],
   "source": [
    "llm = OllamaLLM(model=\"llama3\")"
   ]
  },
  {
   "cell_type": "code",
   "execution_count": 31,
   "metadata": {},
   "outputs": [],
   "source": [
    "from langchain.chains import create_sql_query_chain\n",
    "\n",
    "\n",
    "chain = create_sql_query_chain(llm, db)\n",
    "response = chain.invoke({\"question\": \"Which is the most expensive property?\"})\n"
   ]
  },
  {
   "cell_type": "code",
   "execution_count": 32,
   "metadata": {},
   "outputs": [],
   "source": [
    "x = response.split(\":\")[-1].strip()"
   ]
  },
  {
   "cell_type": "code",
   "execution_count": 33,
   "metadata": {},
   "outputs": [
    {
     "data": {
      "text/plain": [
       "\"[('P2GU7D5EK4', 924844.74)]\""
      ]
     },
     "execution_count": 33,
     "metadata": {},
     "output_type": "execute_result"
    }
   ],
   "source": [
    "db.run(x)"
   ]
  },
  {
   "cell_type": "code",
   "execution_count": null,
   "metadata": {},
   "outputs": [],
   "source": []
  }
 ],
 "metadata": {
  "kernelspec": {
   "display_name": "diplomska-8wZfyYAr-py3.10",
   "language": "python",
   "name": "python3"
  },
  "language_info": {
   "codemirror_mode": {
    "name": "ipython",
    "version": 3
   },
   "file_extension": ".py",
   "mimetype": "text/x-python",
   "name": "python",
   "nbconvert_exporter": "python",
   "pygments_lexer": "ipython3",
   "version": "3.10.11"
  }
 },
 "nbformat": 4,
 "nbformat_minor": 2
}
